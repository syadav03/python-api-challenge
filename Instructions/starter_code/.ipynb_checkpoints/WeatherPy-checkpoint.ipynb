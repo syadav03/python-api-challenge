{
 "cells": [
  {
   "cell_type": "markdown",
   "metadata": {},
   "source": [
    "# WeatherPy\n",
    "----\n",
    "\n",
    "#### Note\n",
    "* Instructions have been included for each segment. You do not have to follow them exactly, but they are included to help you think through the steps."
   ]
  },
  {
   "cell_type": "code",
   "execution_count": 67,
   "metadata": {
    "scrolled": true
   },
   "outputs": [],
   "source": [
    "# Dependencies and Setup\n",
    "import matplotlib.pyplot as plt\n",
    "import pandas as pd\n",
    "import numpy as np\n",
    "import requests\n",
    "import time\n",
    "from scipy.stats import linregress\n",
    "import time\n",
    "from pprint import pprint\n",
    "import scipy.stats as st\n",
    "\n",
    "# Import API key\n",
    "from api_keys import weather_api_key\n",
    "\n",
    "# Incorporated citipy to determine city based on latitude and longitude\n",
    "from citipy import citipy\n",
    "\n",
    "# Output File (CSV)\n",
    "output_data_file = \"output_data/cities.csv\"\n",
    "\n",
    "# Range of latitudes and longitudes\n",
    "lat_range = (-90, 90)\n",
    "lng_range = (-180, 180)"
   ]
  },
  {
   "cell_type": "markdown",
   "metadata": {},
   "source": [
    "## Generate Cities List"
   ]
  },
  {
   "cell_type": "code",
   "execution_count": 3,
   "metadata": {},
   "outputs": [
    {
     "data": {
      "text/plain": [
       "616"
      ]
     },
     "execution_count": 3,
     "metadata": {},
     "output_type": "execute_result"
    }
   ],
   "source": [
    "# List for holding lat_lngs and cities\n",
    "lat_lngs = []\n",
    "cities = []\n",
    "\n",
    "# Create a set of random lat and lng combinations\n",
    "lats = np.random.uniform(lat_range[0], lat_range[1], size=1500)\n",
    "lngs = np.random.uniform(lng_range[0], lng_range[1], size=1500)\n",
    "lat_lngs = zip(lats, lngs)\n",
    "\n",
    "# Identify nearest city for each lat, lng combination\n",
    "for lat_lng in lat_lngs:\n",
    "    city = citipy.nearest_city(lat_lng[0], lat_lng[1]).city_name\n",
    "    \n",
    "    # If the city is unique, then add it to a our cities list\n",
    "    if city not in cities:\n",
    "        cities.append(city)\n",
    "\n",
    "# Print the city count to confirm sufficient count\n",
    "len(cities)"
   ]
  },
  {
   "cell_type": "markdown",
   "metadata": {},
   "source": [
    "### Perform API Calls\n",
    "* Perform a weather check on each city using a series of successive API calls.\n",
    "* Include a print log of each city as it'sbeing processed (with the city number and city name).\n"
   ]
  },
  {
   "cell_type": "code",
   "execution_count": 4,
   "metadata": {
    "scrolled": true
   },
   "outputs": [],
   "source": [
    "# #  ( example JSON)Seeing what the Json looks like to I know what keys to grab from JSON ( example JSON)\n",
    "# url = \"http://api.openweathermap.org/data/2.5/weather?\"\n",
    "# city = \"London\"\n",
    "\n",
    "# # Build query URL\n",
    "# query_url = url + \"appid=\" + weather_api_key + \"&q=\" + city\n",
    "\n",
    "# # Get weather data\n",
    "# weather_response = requests.get(query_url)\n",
    "# weather_json = weather_response.json()\n",
    "\n",
    "# # Get the temperature from the response\n",
    "# # print(f\"The weather API responded with: {weather_json}.\")\n",
    "# pprint (weather_json)"
   ]
  },
  {
   "cell_type": "code",
   "execution_count": 5,
   "metadata": {},
   "outputs": [],
   "source": [
    "# create empty list from data from API to be stored \n",
    "city_name =[]\n",
    "temperature = []\n",
    "max_temp =[]\n",
    "cloudiness =[]\n",
    "humidity =[]\n",
    "country =[]\n",
    "wind_speed = []\n",
    "latitude =[]\n",
    "longitude =[]\n",
    "datetime=[]\n",
    "\n",
    "# Counters\n",
    "city_counter =1\n",
    "set_counter =1 "
   ]
  },
  {
   "cell_type": "code",
   "execution_count": 6,
   "metadata": {},
   "outputs": [
    {
     "name": "stdout",
     "output_type": "stream",
     "text": [
      "Beginning Data Retrieval\n",
      "---------------------------\n",
      "Processing Record 1 of Set 1 : mount gambier\n",
      "Processing Record 2 of Set 1 : olafsvik\n",
      "Processing Record 3 of Set 1 : georgetown\n",
      "Processing Record 4 of Set 1 : tuktoyaktuk\n",
      "Processing Record 5 of Set 1 : taolanaro\n",
      "City not found. Skipping...\n",
      "Processing Record 6 of Set 1 : bethel\n",
      "Processing Record 7 of Set 1 : provideniya\n",
      "Processing Record 8 of Set 1 : hilo\n",
      "Processing Record 9 of Set 1 : ilulissat\n",
      "Processing Record 10 of Set 1 : dikson\n",
      "Processing Record 11 of Set 1 : pisco\n",
      "Processing Record 12 of Set 1 : souillac\n",
      "Processing Record 13 of Set 1 : khatanga\n",
      "Processing Record 14 of Set 1 : noumea\n",
      "Processing Record 15 of Set 1 : busselton\n",
      "Processing Record 16 of Set 1 : kavaratti\n",
      "Processing Record 17 of Set 1 : grand gaube\n",
      "Processing Record 18 of Set 1 : kulhudhuffushi\n",
      "Processing Record 19 of Set 1 : sulangan\n",
      "Processing Record 20 of Set 1 : belushya guba\n",
      "City not found. Skipping...\n",
      "Processing Record 21 of Set 1 : rikitea\n",
      "Processing Record 22 of Set 1 : iskateley\n",
      "Processing Record 23 of Set 1 : zhigansk\n",
      "Processing Record 24 of Set 1 : port alfred\n",
      "Processing Record 25 of Set 1 : asau\n",
      "Processing Record 26 of Set 1 : jamestown\n",
      "Processing Record 27 of Set 1 : new norfolk\n",
      "Processing Record 28 of Set 1 : grindavik\n",
      "Processing Record 29 of Set 1 : hobart\n",
      "Processing Record 30 of Set 1 : butaritari\n",
      "Processing Record 31 of Set 1 : vao\n",
      "Processing Record 32 of Set 1 : abalak\n",
      "Processing Record 33 of Set 1 : punta arenas\n",
      "Processing Record 34 of Set 1 : pombas\n",
      "Processing Record 35 of Set 1 : jalu\n",
      "Processing Record 36 of Set 1 : berlevag\n",
      "Processing Record 37 of Set 1 : luderitz\n",
      "Processing Record 38 of Set 1 : hermanus\n",
      "Processing Record 39 of Set 1 : albany\n",
      "Processing Record 40 of Set 1 : yellowknife\n",
      "Processing Record 41 of Set 1 : mys shmidta\n",
      "City not found. Skipping...\n",
      "Processing Record 42 of Set 1 : uvalde\n",
      "Processing Record 43 of Set 1 : saskylakh\n",
      "Processing Record 44 of Set 1 : nizhneyansk\n",
      "City not found. Skipping...\n",
      "Processing Record 45 of Set 1 : saint george\n",
      "Processing Record 46 of Set 1 : kamenka\n",
      "Processing Record 47 of Set 1 : saleaula\n",
      "City not found. Skipping...\n",
      "Processing Record 48 of Set 1 : cherskiy\n",
      "Processing Record 49 of Set 1 : tura\n",
      "Processing Record 50 of Set 1 : oistins\n",
      "Processing Record 1 of Set 2 : mogadishu\n",
      "Processing Record 2 of Set 2 : sitka\n",
      "Processing Record 3 of Set 2 : nanortalik\n",
      "Processing Record 4 of Set 2 : sisimiut\n",
      "Processing Record 5 of Set 2 : katsuura\n",
      "Processing Record 6 of Set 2 : evensk\n",
      "Processing Record 7 of Set 2 : evanston\n",
      "Processing Record 8 of Set 2 : westport\n",
      "Processing Record 9 of Set 2 : mataura\n",
      "Processing Record 10 of Set 2 : kuche\n",
      "City not found. Skipping...\n",
      "Processing Record 11 of Set 2 : vetel\n",
      "Processing Record 12 of Set 2 : san juan bautista\n",
      "Processing Record 13 of Set 2 : guangyuan\n",
      "Processing Record 14 of Set 2 : lebu\n",
      "Processing Record 15 of Set 2 : carnarvon\n",
      "Processing Record 16 of Set 2 : iqaluit\n",
      "Processing Record 17 of Set 2 : venice\n",
      "Processing Record 18 of Set 2 : dzhida\n",
      "Processing Record 19 of Set 2 : arman\n",
      "Processing Record 20 of Set 2 : praia da vitoria\n",
      "Processing Record 21 of Set 2 : hithadhoo\n",
      "Processing Record 22 of Set 2 : morondava\n",
      "Processing Record 23 of Set 2 : barrow\n",
      "Processing Record 24 of Set 2 : sentyabrskiy\n",
      "City not found. Skipping...\n",
      "Processing Record 25 of Set 2 : waipawa\n",
      "Processing Record 26 of Set 2 : puerto ayora\n",
      "Processing Record 27 of Set 2 : ozernovskiy\n",
      "Processing Record 28 of Set 2 : cape town\n",
      "Processing Record 29 of Set 2 : mahebourg\n",
      "Processing Record 30 of Set 2 : mandalgovi\n",
      "Processing Record 31 of Set 2 : atuona\n",
      "Processing Record 32 of Set 2 : mgandu\n",
      "Processing Record 33 of Set 2 : crotone\n",
      "Processing Record 34 of Set 2 : ushuaia\n",
      "Processing Record 35 of Set 2 : lavrentiya\n",
      "Processing Record 36 of Set 2 : viligili\n",
      "City not found. Skipping...\n",
      "Processing Record 37 of Set 2 : necochea\n",
      "Processing Record 38 of Set 2 : cairns\n",
      "Processing Record 39 of Set 2 : tasiilaq\n",
      "Processing Record 40 of Set 2 : sovetskiy\n",
      "Processing Record 41 of Set 2 : kijang\n",
      "Processing Record 42 of Set 2 : vaini\n",
      "Processing Record 43 of Set 2 : avera\n",
      "Processing Record 44 of Set 2 : thompson\n",
      "Processing Record 45 of Set 2 : san rafael\n",
      "Processing Record 46 of Set 2 : sicuani\n",
      "Processing Record 47 of Set 2 : romny\n",
      "Processing Record 48 of Set 2 : yermakovskoye\n",
      "Processing Record 49 of Set 2 : monrovia\n",
      "Processing Record 1 of Set 3 : tsihombe\n",
      "City not found. Skipping...\n",
      "Processing Record 2 of Set 3 : sattahip\n",
      "Processing Record 3 of Set 3 : vero beach\n",
      "Processing Record 4 of Set 3 : matara\n",
      "Processing Record 5 of Set 3 : tamiahua\n",
      "Processing Record 6 of Set 3 : east london\n",
      "Processing Record 7 of Set 3 : neuquen\n",
      "Processing Record 8 of Set 3 : shimanovsk\n",
      "Processing Record 9 of Set 3 : axim\n",
      "Processing Record 10 of Set 3 : comodoro rivadavia\n",
      "Processing Record 11 of Set 3 : silvia\n",
      "Processing Record 12 of Set 3 : severo-kurilsk\n",
      "Processing Record 13 of Set 3 : fare\n",
      "Processing Record 14 of Set 3 : nikolskoye\n",
      "Processing Record 15 of Set 3 : kodiak\n",
      "Processing Record 16 of Set 3 : batemans bay\n",
      "Processing Record 17 of Set 3 : tak\n",
      "Processing Record 18 of Set 3 : dunedin\n",
      "Processing Record 19 of Set 3 : portobelo\n",
      "Processing Record 20 of Set 3 : alofi\n",
      "Processing Record 21 of Set 3 : kapaa\n",
      "Processing Record 22 of Set 3 : bauta\n",
      "Processing Record 23 of Set 3 : northfield\n",
      "Processing Record 24 of Set 3 : guerrero negro\n",
      "Processing Record 25 of Set 3 : motala\n",
      "Processing Record 26 of Set 3 : sambava\n",
      "Processing Record 27 of Set 3 : bambous virieux\n",
      "Processing Record 28 of Set 3 : fukuma\n",
      "Processing Record 29 of Set 3 : saldanha\n",
      "Processing Record 30 of Set 3 : tateyama\n",
      "Processing Record 31 of Set 3 : kanata\n",
      "Processing Record 32 of Set 3 : rupert\n",
      "Processing Record 33 of Set 3 : othonoi\n",
      "City not found. Skipping...\n",
      "Processing Record 34 of Set 3 : arroyo\n",
      "Processing Record 35 of Set 3 : wenling\n",
      "Processing Record 36 of Set 3 : flinders\n",
      "Processing Record 37 of Set 3 : lagoa\n",
      "Processing Record 38 of Set 3 : ucluelet\n",
      "Processing Record 39 of Set 3 : touros\n",
      "Processing Record 40 of Set 3 : shirokiy\n",
      "Processing Record 41 of Set 3 : olinda\n",
      "Processing Record 42 of Set 3 : bulgan\n",
      "Processing Record 43 of Set 3 : kalino\n",
      "Processing Record 44 of Set 3 : fuerte olimpo\n",
      "Processing Record 45 of Set 3 : leningradskiy\n",
      "Processing Record 46 of Set 3 : ketchikan\n",
      "Processing Record 47 of Set 3 : sorvag\n",
      "City not found. Skipping...\n",
      "Processing Record 48 of Set 3 : ihosy\n",
      "Processing Record 49 of Set 3 : sao filipe\n",
      "Processing Record 1 of Set 4 : fukue\n",
      "Processing Record 2 of Set 4 : bredasdorp\n",
      "Processing Record 3 of Set 4 : businga\n",
      "Processing Record 4 of Set 4 : aykhal\n",
      "Processing Record 5 of Set 4 : ostrovnoy\n",
      "Processing Record 6 of Set 4 : richards bay\n",
      "Processing Record 7 of Set 4 : chara\n",
      "Processing Record 8 of Set 4 : tabiauea\n",
      "City not found. Skipping...\n",
      "Processing Record 9 of Set 4 : torbay\n",
      "Processing Record 10 of Set 4 : cidreira\n",
      "Processing Record 11 of Set 4 : the valley\n",
      "Processing Record 12 of Set 4 : qandala\n",
      "Processing Record 13 of Set 4 : merauke\n",
      "Processing Record 14 of Set 4 : port shepstone\n",
      "Processing Record 15 of Set 4 : vila velha\n",
      "Processing Record 16 of Set 4 : fuxin\n",
      "Processing Record 17 of Set 4 : hasaki\n",
      "Processing Record 18 of Set 4 : dolbeau\n",
      "City not found. Skipping...\n",
      "Processing Record 19 of Set 4 : nikolsk\n",
      "Processing Record 20 of Set 4 : buin\n",
      "Processing Record 21 of Set 4 : nhulunbuy\n",
      "Processing Record 22 of Set 4 : kaliyaganj\n",
      "Processing Record 23 of Set 4 : salinopolis\n",
      "Processing Record 24 of Set 4 : lompoc\n",
      "Processing Record 25 of Set 4 : boddam\n",
      "Processing Record 26 of Set 4 : palmer\n",
      "Processing Record 27 of Set 4 : san vicente\n",
      "Processing Record 28 of Set 4 : bluff\n",
      "Processing Record 29 of Set 4 : saint-philippe\n",
      "Processing Record 30 of Set 4 : nantucket\n",
      "Processing Record 31 of Set 4 : namibe\n",
      "Processing Record 32 of Set 4 : te anau\n",
      "Processing Record 33 of Set 4 : vostochnyy\n",
      "Processing Record 34 of Set 4 : imeni zhelyabova\n",
      "Processing Record 35 of Set 4 : omboue\n",
      "Processing Record 36 of Set 4 : ewa beach\n",
      "Processing Record 37 of Set 4 : atbasar\n",
      "Processing Record 38 of Set 4 : ribeira grande\n",
      "Processing Record 39 of Set 4 : adrar\n",
      "Processing Record 40 of Set 4 : malwan\n",
      "City not found. Skipping...\n",
      "Processing Record 41 of Set 4 : oyem\n",
      "Processing Record 42 of Set 4 : puri\n"
     ]
    },
    {
     "name": "stdout",
     "output_type": "stream",
     "text": [
      "Processing Record 43 of Set 4 : samusu\n",
      "City not found. Skipping...\n",
      "Processing Record 44 of Set 4 : lasa\n",
      "Processing Record 45 of Set 4 : kargasok\n",
      "Processing Record 46 of Set 4 : pacific grove\n",
      "Processing Record 47 of Set 4 : umzimvubu\n",
      "City not found. Skipping...\n",
      "Processing Record 48 of Set 4 : whitehorse\n",
      "Processing Record 49 of Set 4 : margate\n",
      "Processing Record 1 of Set 5 : kirillov\n",
      "Processing Record 2 of Set 5 : coihaique\n",
      "Processing Record 3 of Set 5 : upernavik\n",
      "Processing Record 4 of Set 5 : sergeyevka\n",
      "Processing Record 5 of Set 5 : pontianak\n",
      "Processing Record 6 of Set 5 : pevek\n",
      "Processing Record 7 of Set 5 : la asuncion\n",
      "Processing Record 8 of Set 5 : marawi\n",
      "Processing Record 9 of Set 5 : bengkulu\n",
      "Processing Record 10 of Set 5 : vaitape\n",
      "Processing Record 11 of Set 5 : campos\n",
      "Processing Record 12 of Set 5 : ceyhan\n",
      "Processing Record 13 of Set 5 : ancud\n",
      "Processing Record 14 of Set 5 : sarangani\n",
      "Processing Record 15 of Set 5 : kieta\n",
      "Processing Record 16 of Set 5 : skara\n",
      "Processing Record 17 of Set 5 : kavieng\n",
      "Processing Record 18 of Set 5 : ponta do sol\n",
      "Processing Record 19 of Set 5 : nelson bay\n",
      "Processing Record 20 of Set 5 : hamilton\n",
      "Processing Record 21 of Set 5 : port macquarie\n",
      "Processing Record 22 of Set 5 : usogorsk\n",
      "Processing Record 23 of Set 5 : airai\n",
      "Processing Record 24 of Set 5 : tilichiki\n",
      "Processing Record 25 of Set 5 : serebryansk\n",
      "Processing Record 26 of Set 5 : manzil jamil\n",
      "City not found. Skipping...\n",
      "Processing Record 27 of Set 5 : avarua\n",
      "Processing Record 28 of Set 5 : mar del plata\n",
      "Processing Record 29 of Set 5 : codrington\n",
      "Processing Record 30 of Set 5 : castro\n",
      "Processing Record 31 of Set 5 : tazovskiy\n",
      "Processing Record 32 of Set 5 : svetlyy\n",
      "Processing Record 33 of Set 5 : arraial do cabo\n",
      "Processing Record 34 of Set 5 : meulaboh\n",
      "Processing Record 35 of Set 5 : attawapiskat\n",
      "City not found. Skipping...\n",
      "Processing Record 36 of Set 5 : myre\n",
      "Processing Record 37 of Set 5 : sao joao da barra\n",
      "Processing Record 38 of Set 5 : mount isa\n",
      "Processing Record 39 of Set 5 : yuzhno-yeniseyskiy\n",
      "City not found. Skipping...\n",
      "Processing Record 40 of Set 5 : aksarka\n",
      "Processing Record 41 of Set 5 : solnechnyy\n",
      "Processing Record 42 of Set 5 : mareeba\n",
      "Processing Record 43 of Set 5 : turtkul\n",
      "City not found. Skipping...\n",
      "Processing Record 44 of Set 5 : huntington\n",
      "Processing Record 45 of Set 5 : amderma\n",
      "City not found. Skipping...\n",
      "Processing Record 46 of Set 5 : illoqqortoormiut\n",
      "City not found. Skipping...\n",
      "Processing Record 47 of Set 5 : bagotville\n",
      "Processing Record 48 of Set 5 : araouane\n",
      "Processing Record 49 of Set 5 : ha noi\n",
      "Processing Record 1 of Set 6 : mombetsu\n",
      "Processing Record 2 of Set 6 : kabompo\n",
      "Processing Record 3 of Set 6 : punta alta\n",
      "Processing Record 4 of Set 6 : altay\n",
      "Processing Record 5 of Set 6 : nederland\n",
      "Processing Record 6 of Set 6 : dingzhou\n",
      "Processing Record 7 of Set 6 : liverpool\n",
      "Processing Record 8 of Set 6 : uyuni\n",
      "Processing Record 9 of Set 6 : sinkat\n",
      "City not found. Skipping...\n",
      "Processing Record 10 of Set 6 : nuuk\n",
      "Processing Record 11 of Set 6 : sioux lookout\n",
      "Processing Record 12 of Set 6 : chuy\n",
      "Processing Record 13 of Set 6 : faya\n",
      "Processing Record 14 of Set 6 : kattivakkam\n",
      "Processing Record 15 of Set 6 : sibolga\n",
      "Processing Record 16 of Set 6 : pho chai\n",
      "Processing Record 17 of Set 6 : corner brook\n",
      "Processing Record 18 of Set 6 : luanda\n",
      "Processing Record 19 of Set 6 : portree\n",
      "Processing Record 20 of Set 6 : saint-pierre\n",
      "Processing Record 21 of Set 6 : rio grande\n",
      "Processing Record 22 of Set 6 : gari\n",
      "Processing Record 23 of Set 6 : barcelos\n",
      "Processing Record 24 of Set 6 : harlow\n",
      "Processing Record 25 of Set 6 : kamwenge\n",
      "Processing Record 26 of Set 6 : kaohsiung\n",
      "Processing Record 27 of Set 6 : havelock\n",
      "Processing Record 28 of Set 6 : tierralta\n",
      "Processing Record 29 of Set 6 : santa cruz\n",
      "Processing Record 30 of Set 6 : althofen\n",
      "Processing Record 31 of Set 6 : terra santa\n",
      "Processing Record 32 of Set 6 : cap malheureux\n",
      "Processing Record 33 of Set 6 : viedma\n",
      "Processing Record 34 of Set 6 : lata\n",
      "Processing Record 35 of Set 6 : rafraf\n",
      "Processing Record 36 of Set 6 : bar-le-duc\n",
      "Processing Record 37 of Set 6 : lerwick\n",
      "Processing Record 38 of Set 6 : padang\n",
      "Processing Record 39 of Set 6 : qaqortoq\n",
      "Processing Record 40 of Set 6 : solovetskiy\n",
      "City not found. Skipping...\n",
      "Processing Record 41 of Set 6 : santa maria\n",
      "Processing Record 42 of Set 6 : tabou\n",
      "Processing Record 43 of Set 6 : jumla\n",
      "Processing Record 44 of Set 6 : gladstone\n",
      "Processing Record 45 of Set 6 : san jeronimo\n",
      "Processing Record 46 of Set 6 : oussouye\n",
      "Processing Record 47 of Set 6 : baykit\n",
      "Processing Record 48 of Set 6 : bouna\n",
      "Processing Record 49 of Set 6 : quelimane\n",
      "Processing Record 1 of Set 7 : manta\n",
      "Processing Record 2 of Set 7 : golubitskaya\n",
      "Processing Record 3 of Set 7 : yulara\n",
      "Processing Record 4 of Set 7 : kamenskoye\n",
      "City not found. Skipping...\n",
      "Processing Record 5 of Set 7 : barentsburg\n",
      "City not found. Skipping...\n",
      "Processing Record 6 of Set 7 : cabo san lucas\n",
      "Processing Record 7 of Set 7 : treinta y tres\n",
      "Processing Record 8 of Set 7 : conchal\n",
      "Processing Record 9 of Set 7 : constitucion\n",
      "Processing Record 10 of Set 7 : mundra\n",
      "Processing Record 11 of Set 7 : cam ranh\n",
      "Processing Record 12 of Set 7 : tucuma\n",
      "Processing Record 13 of Set 7 : bathsheba\n",
      "Processing Record 14 of Set 7 : poum\n",
      "Processing Record 15 of Set 7 : nizhniye sergi\n",
      "Processing Record 16 of Set 7 : cochrane\n",
      "Processing Record 17 of Set 7 : batagay-alyta\n",
      "Processing Record 18 of Set 7 : launceston\n",
      "Processing Record 19 of Set 7 : dingle\n",
      "Processing Record 20 of Set 7 : byron bay\n",
      "Processing Record 21 of Set 7 : teya\n",
      "Processing Record 22 of Set 7 : yerbogachen\n",
      "Processing Record 23 of Set 7 : tessalit\n",
      "Processing Record 24 of Set 7 : ust-kamchatsk\n",
      "City not found. Skipping...\n",
      "Processing Record 25 of Set 7 : beira\n",
      "Processing Record 26 of Set 7 : deputatskiy\n",
      "Processing Record 27 of Set 7 : romblon\n",
      "Processing Record 28 of Set 7 : salalah\n",
      "Processing Record 29 of Set 7 : chicama\n",
      "Processing Record 30 of Set 7 : cleveland\n",
      "Processing Record 31 of Set 7 : muyezerskiy\n",
      "Processing Record 32 of Set 7 : san quintin\n",
      "Processing Record 33 of Set 7 : broome\n",
      "Processing Record 34 of Set 7 : grand river south east\n",
      "City not found. Skipping...\n",
      "Processing Record 35 of Set 7 : kilinochchi\n",
      "Processing Record 36 of Set 7 : general roca\n",
      "Processing Record 37 of Set 7 : isola della scala\n",
      "Processing Record 38 of Set 7 : talnakh\n",
      "Processing Record 39 of Set 7 : kaeo\n",
      "Processing Record 40 of Set 7 : along\n",
      "Processing Record 41 of Set 7 : dzilam gonzalez\n",
      "Processing Record 42 of Set 7 : andilamena\n",
      "Processing Record 43 of Set 7 : san cristobal\n",
      "Processing Record 44 of Set 7 : porto novo\n",
      "Processing Record 45 of Set 7 : atherton\n",
      "Processing Record 46 of Set 7 : skjervoy\n",
      "Processing Record 47 of Set 7 : shahrud\n",
      "Processing Record 48 of Set 7 : esperance\n",
      "Processing Record 49 of Set 7 : at-bashi\n",
      "Processing Record 1 of Set 8 : aklavik\n",
      "Processing Record 2 of Set 8 : mayumba\n",
      "Processing Record 3 of Set 8 : kota kinabalu\n",
      "Processing Record 4 of Set 8 : izumo\n",
      "Processing Record 5 of Set 8 : kununurra\n",
      "Processing Record 6 of Set 8 : pelym\n",
      "Processing Record 7 of Set 8 : bratsk\n",
      "Processing Record 8 of Set 8 : lingao\n",
      "Processing Record 9 of Set 8 : lima\n",
      "Processing Record 10 of Set 8 : qaanaaq\n",
      "Processing Record 11 of Set 8 : yeppoon\n",
      "Processing Record 12 of Set 8 : bakaly\n",
      "Processing Record 13 of Set 8 : rongcheng\n",
      "Processing Record 14 of Set 8 : clyde river\n",
      "Processing Record 15 of Set 8 : san andres\n",
      "Processing Record 16 of Set 8 : ahipara\n",
      "Processing Record 17 of Set 8 : port-gentil\n",
      "Processing Record 18 of Set 8 : novoagansk\n",
      "Processing Record 19 of Set 8 : kampong thum\n",
      "Processing Record 20 of Set 8 : atambua\n",
      "Processing Record 21 of Set 8 : berdigestyakh\n",
      "Processing Record 22 of Set 8 : cabedelo\n",
      "Processing Record 23 of Set 8 : aleksandrov gay\n",
      "Processing Record 24 of Set 8 : cotoca\n",
      "Processing Record 25 of Set 8 : vaitupu\n",
      "City not found. Skipping...\n",
      "Processing Record 26 of Set 8 : chokurdakh\n",
      "Processing Record 27 of Set 8 : baoqing\n",
      "Processing Record 28 of Set 8 : lysva\n",
      "Processing Record 29 of Set 8 : kirakira\n",
      "Processing Record 30 of Set 8 : mizan teferi\n",
      "Processing Record 31 of Set 8 : veraval\n",
      "Processing Record 32 of Set 8 : bluefield\n",
      "Processing Record 33 of Set 8 : preobrazheniye\n",
      "Processing Record 34 of Set 8 : awbari\n"
     ]
    },
    {
     "name": "stdout",
     "output_type": "stream",
     "text": [
      "Processing Record 35 of Set 8 : vostok\n",
      "Processing Record 36 of Set 8 : cambridge\n",
      "Processing Record 37 of Set 8 : tyukalinsk\n",
      "Processing Record 38 of Set 8 : tanggu\n",
      "Processing Record 39 of Set 8 : port elizabeth\n",
      "Processing Record 40 of Set 8 : smithers\n",
      "Processing Record 41 of Set 8 : soyo\n",
      "Processing Record 42 of Set 8 : puerto penasco\n",
      "Processing Record 43 of Set 8 : samalaeulu\n",
      "City not found. Skipping...\n",
      "Processing Record 44 of Set 8 : onega\n",
      "Processing Record 45 of Set 8 : fayaoue\n",
      "Processing Record 46 of Set 8 : elmadag\n",
      "Processing Record 47 of Set 8 : tadine\n",
      "Processing Record 48 of Set 8 : amapa\n",
      "Processing Record 49 of Set 8 : morehead\n",
      "Processing Record 1 of Set 9 : benguela\n",
      "Processing Record 2 of Set 9 : chipata\n",
      "Processing Record 3 of Set 9 : soria\n",
      "Processing Record 4 of Set 9 : mazatlan\n",
      "Processing Record 5 of Set 9 : santiago\n",
      "Processing Record 6 of Set 9 : lobau\n",
      "Processing Record 7 of Set 9 : tarut\n",
      "Processing Record 8 of Set 9 : birjand\n",
      "Processing Record 9 of Set 9 : gamba\n",
      "Processing Record 10 of Set 9 : vuktyl\n",
      "Processing Record 11 of Set 9 : khiv\n",
      "Processing Record 12 of Set 9 : surt\n",
      "Processing Record 13 of Set 9 : egvekinot\n",
      "Processing Record 14 of Set 9 : popondetta\n",
      "Processing Record 15 of Set 9 : port blair\n",
      "Processing Record 16 of Set 9 : khandyga\n",
      "Processing Record 17 of Set 9 : murmashi\n",
      "Processing Record 18 of Set 9 : victoria\n",
      "Processing Record 19 of Set 9 : bubaque\n",
      "Processing Record 20 of Set 9 : nyuksenitsa\n",
      "Processing Record 21 of Set 9 : balsas\n",
      "Processing Record 22 of Set 9 : neftcala\n",
      "Processing Record 23 of Set 9 : jiazi\n",
      "Processing Record 24 of Set 9 : deqing\n",
      "Processing Record 25 of Set 9 : mayo\n",
      "Processing Record 26 of Set 9 : oranjemund\n",
      "Processing Record 27 of Set 9 : guaymas\n",
      "Processing Record 28 of Set 9 : lahan\n",
      "Processing Record 29 of Set 9 : nocupetaro\n",
      "Processing Record 30 of Set 9 : igarapava\n",
      "Processing Record 31 of Set 9 : kachikau\n",
      "City not found. Skipping...\n",
      "Processing Record 32 of Set 9 : fortuna\n",
      "Processing Record 33 of Set 9 : vanimo\n",
      "Processing Record 34 of Set 9 : coos bay\n",
      "Processing Record 35 of Set 9 : roebourne\n",
      "Processing Record 36 of Set 9 : moranbah\n",
      "Processing Record 37 of Set 9 : cururupu\n",
      "Processing Record 38 of Set 9 : wamba\n",
      "Processing Record 39 of Set 9 : aviles\n",
      "Processing Record 40 of Set 9 : blora\n",
      "Processing Record 41 of Set 9 : harper\n",
      "Processing Record 42 of Set 9 : wynyard\n",
      "Processing Record 43 of Set 9 : korla\n",
      "Processing Record 44 of Set 9 : marshall\n",
      "Processing Record 45 of Set 9 : beloha\n",
      "Processing Record 46 of Set 9 : virginia beach\n",
      "Processing Record 47 of Set 9 : namatanai\n",
      "Processing Record 48 of Set 9 : faanui\n",
      "Processing Record 49 of Set 9 : tiksi\n",
      "Processing Record 1 of Set 10 : kahului\n",
      "Processing Record 2 of Set 10 : norman wells\n",
      "Processing Record 3 of Set 10 : tubruq\n",
      "City not found. Skipping...\n",
      "Processing Record 4 of Set 10 : louga\n",
      "Processing Record 5 of Set 10 : macia\n",
      "Processing Record 6 of Set 10 : camopi\n",
      "Processing Record 7 of Set 10 : la ronge\n",
      "Processing Record 8 of Set 10 : karaul\n",
      "City not found. Skipping...\n",
      "Processing Record 9 of Set 10 : fevralsk\n",
      "City not found. Skipping...\n",
      "Processing Record 10 of Set 10 : gurmatkal\n",
      "Processing Record 11 of Set 10 : svirsk\n",
      "Processing Record 12 of Set 10 : tumannyy\n",
      "City not found. Skipping...\n",
      "Processing Record 13 of Set 10 : fairbanks\n",
      "Processing Record 14 of Set 10 : vardo\n",
      "Processing Record 15 of Set 10 : north platte\n",
      "Processing Record 16 of Set 10 : pointe michel\n",
      "Processing Record 17 of Set 10 : sobolevo\n",
      "Processing Record 18 of Set 10 : dayong\n",
      "Processing Record 19 of Set 10 : port lincoln\n",
      "Processing Record 20 of Set 10 : abha\n",
      "Processing Record 21 of Set 10 : euclides da cunha\n",
      "Processing Record 22 of Set 10 : nacogdoches\n",
      "Processing Record 23 of Set 10 : aldan\n",
      "Processing Record 24 of Set 10 : coolum beach\n",
      "Processing Record 25 of Set 10 : kelheim\n",
      "Processing Record 26 of Set 10 : livingstonia\n",
      "Processing Record 27 of Set 10 : karaton\n",
      "Processing Record 28 of Set 10 : vikhorevka\n",
      "Processing Record 29 of Set 10 : nishihara\n",
      "Processing Record 30 of Set 10 : paso de carrasco\n",
      "Processing Record 31 of Set 10 : aitape\n",
      "Processing Record 32 of Set 10 : san patricio\n",
      "Processing Record 33 of Set 10 : gold coast\n",
      "Processing Record 34 of Set 10 : upington\n",
      "Processing Record 35 of Set 10 : kunri\n",
      "Processing Record 36 of Set 10 : vangaindrano\n",
      "Processing Record 37 of Set 10 : port hedland\n",
      "Processing Record 38 of Set 10 : emba\n",
      "Processing Record 39 of Set 10 : mecca\n",
      "Processing Record 40 of Set 10 : nehe\n",
      "Processing Record 41 of Set 10 : bilma\n",
      "Processing Record 42 of Set 10 : narsaq\n",
      "Processing Record 43 of Set 10 : oranjestad\n",
      "Processing Record 44 of Set 10 : kendari\n",
      "Processing Record 45 of Set 10 : maceio\n",
      "Processing Record 46 of Set 10 : ios\n",
      "Processing Record 47 of Set 10 : neiafu\n",
      "Processing Record 48 of Set 10 : stykkisholmur\n",
      "Processing Record 49 of Set 10 : mount pleasant\n",
      "Processing Record 1 of Set 11 : esna\n",
      "Processing Record 2 of Set 11 : yumen\n",
      "Processing Record 3 of Set 11 : kabare\n",
      "Processing Record 4 of Set 11 : saint anthony\n",
      "Processing Record 5 of Set 11 : longyearbyen\n",
      "Processing Record 6 of Set 11 : pingliang\n",
      "Processing Record 7 of Set 11 : morant bay\n",
      "Processing Record 8 of Set 11 : hovd\n",
      "Processing Record 9 of Set 11 : ambulu\n",
      "Processing Record 10 of Set 11 : mtsamboro\n",
      "Processing Record 11 of Set 11 : auki\n",
      "Processing Record 12 of Set 11 : khor\n",
      "Processing Record 13 of Set 11 : pathein\n",
      "Processing Record 14 of Set 11 : kot radha kishan\n",
      "Processing Record 15 of Set 11 : klaksvik\n",
      "Processing Record 16 of Set 11 : chingirlau\n",
      "Processing Record 17 of Set 11 : lorengau\n",
      "Processing Record 18 of Set 11 : cuamba\n",
      "Processing Record 19 of Set 11 : joshimath\n",
      "Processing Record 20 of Set 11 : tuatapere\n",
      "Processing Record 21 of Set 11 : lisakovsk\n",
      "Processing Record 22 of Set 11 : catamarca\n",
      "Processing Record 23 of Set 11 : udachnyy\n",
      "Processing Record 24 of Set 11 : westerly\n",
      "Processing Record 25 of Set 11 : ulladulla\n",
      "Processing Record 26 of Set 11 : powell river\n",
      "Processing Record 27 of Set 11 : nova olimpia\n",
      "Processing Record 28 of Set 11 : ayyampettai\n",
      "Processing Record 29 of Set 11 : makakilo city\n",
      "Processing Record 30 of Set 11 : nouakchott\n",
      "Processing Record 31 of Set 11 : genhe\n",
      "Processing Record 32 of Set 11 : goteborg\n",
      "City not found. Skipping...\n",
      "Processing Record 33 of Set 11 : rodrigues alves\n",
      "Processing Record 34 of Set 11 : cabra\n",
      "Processing Record 35 of Set 11 : anadyr\n",
      "Processing Record 36 of Set 11 : barvinkove\n",
      "Processing Record 37 of Set 11 : bonavista\n",
      "Processing Record 38 of Set 11 : valleyview\n",
      "Processing Record 39 of Set 11 : port keats\n",
      "Processing Record 40 of Set 11 : suba\n",
      "Processing Record 41 of Set 11 : hofn\n",
      "Processing Record 42 of Set 11 : sataua\n",
      "City not found. Skipping...\n",
      "Processing Record 43 of Set 11 : high level\n",
      "Processing Record 44 of Set 11 : zorritos\n",
      "Processing Record 45 of Set 11 : balti\n",
      "Processing Record 46 of Set 11 : burlington\n",
      "Processing Record 47 of Set 11 : scottsbluff\n",
      "Processing Record 48 of Set 11 : pangkalanbuun\n",
      "Processing Record 49 of Set 11 : itarema\n",
      "Processing Record 1 of Set 12 : murray bridge\n",
      "Processing Record 2 of Set 12 : geraldton\n",
      "Processing Record 3 of Set 12 : quzhou\n",
      "Processing Record 4 of Set 12 : santa catarina de tepehuanes\n",
      "Processing Record 5 of Set 12 : caravelas\n",
      "Processing Record 6 of Set 12 : bolungarvik\n",
      "City not found. Skipping...\n",
      "Processing Record 7 of Set 12 : mana\n",
      "Processing Record 8 of Set 12 : adelaide\n",
      "Processing Record 9 of Set 12 : belyy yar\n",
      "Processing Record 10 of Set 12 : carutapera\n",
      "Processing Record 11 of Set 12 : bur gabo\n",
      "City not found. Skipping...\n",
      "Processing Record 12 of Set 12 : inhambane\n",
      "Processing Record 13 of Set 12 : ourinhos\n",
      "Processing Record 14 of Set 12 : baghdad\n",
      "Processing Record 15 of Set 12 : ust-kuyga\n",
      "Processing Record 16 of Set 12 : taltal\n",
      "Processing Record 17 of Set 12 : kunda\n",
      "Processing Record 18 of Set 12 : maloshuyka\n",
      "City not found. Skipping...\n",
      "Processing Record 19 of Set 12 : bedesa\n",
      "Processing Record 20 of Set 12 : villa carlos paz\n",
      "Processing Record 21 of Set 12 : guamuchil\n",
      "Processing Record 22 of Set 12 : santo domingo\n",
      "Processing Record 23 of Set 12 : puerto escondido\n",
      "Processing Record 24 of Set 12 : finnsnes\n",
      "Processing Record 25 of Set 12 : beidao\n",
      "Processing Record 26 of Set 12 : paragominas\n",
      "Processing Record 27 of Set 12 : tromso\n",
      "Processing Record 28 of Set 12 : lazaro cardenas\n"
     ]
    },
    {
     "name": "stdout",
     "output_type": "stream",
     "text": [
      "Processing Record 29 of Set 12 : jujuy\n",
      "City not found. Skipping...\n",
      "Processing Record 30 of Set 12 : gat\n",
      "Processing Record 31 of Set 12 : belz\n",
      "Processing Record 32 of Set 12 : broken hill\n",
      "Processing Record 33 of Set 12 : wulanhaote\n",
      "City not found. Skipping...\n",
      "Processing Record 34 of Set 12 : saint-ambroise\n",
      "Processing Record 35 of Set 12 : khani\n",
      "Processing Record 36 of Set 12 : naryan-mar\n",
      "Processing Record 37 of Set 12 : nagorsk\n",
      "Processing Record 38 of Set 12 : kruisfontein\n",
      "Processing Record 39 of Set 12 : kedrovyy\n",
      "Processing Record 40 of Set 12 : marsabit\n",
      "Processing Record 41 of Set 12 : erzin\n",
      "Processing Record 42 of Set 12 : shimoda\n",
      "Processing Record 43 of Set 12 : salumbar\n",
      "Processing Record 44 of Set 12 : polunochnoye\n",
      "Processing Record 45 of Set 12 : paris\n",
      "Processing Record 46 of Set 12 : sept-iles\n",
      "Processing Record 47 of Set 12 : catarman\n",
      "Processing Record 48 of Set 12 : plouzane\n",
      "Processing Record 49 of Set 12 : sosnovo-ozerskoye\n",
      "Processing Record 1 of Set 13 : elizabeth city\n",
      "Processing Record 2 of Set 13 : almaznyy\n",
      "Processing Record 3 of Set 13 : lufilufi\n",
      "Processing Record 4 of Set 13 : abhar\n",
      "Processing Record 5 of Set 13 : kazalinsk\n",
      "City not found. Skipping...\n",
      "Processing Record 6 of Set 13 : goderich\n",
      "Processing Record 7 of Set 13 : leshukonskoye\n",
      "Processing Record 8 of Set 13 : atikokan\n",
      "Processing Record 9 of Set 13 : abu kamal\n",
      "Processing Record 10 of Set 13 : bajil\n",
      "Processing Record 11 of Set 13 : karratha\n",
      "Processing Record 12 of Set 13 : nguiu\n",
      "City not found. Skipping...\n",
      "Processing Record 13 of Set 13 : srednekolymsk\n",
      "Processing Record 14 of Set 13 : bingol\n",
      "Processing Record 15 of Set 13 : lubango\n",
      "Processing Record 16 of Set 13 : sesheke\n",
      "Processing Record 17 of Set 13 : kilemary\n",
      "Processing Record 18 of Set 13 : vilhena\n",
      "Processing Record 19 of Set 13 : auriflama\n",
      "Processing Record 20 of Set 13 : palabuhanratu\n",
      "City not found. Skipping...\n",
      "Processing Record 21 of Set 13 : aguimes\n",
      "Processing Record 22 of Set 13 : coquimbo\n",
      "Processing Record 23 of Set 13 : monte patria\n",
      "Processing Record 24 of Set 13 : yichun\n",
      "Processing Record 25 of Set 13 : vestmannaeyjar\n",
      "Processing Record 26 of Set 13 : husavik\n",
      "Processing Record 27 of Set 13 : urumqi\n",
      "Done\n"
     ]
    }
   ],
   "source": [
    "print(\"Beginning Data Retrieval\")\n",
    "print(\"---------------------------\")\n",
    "\n",
    "base_url = \"http://api.openweathermap.org/data/2.5/weather?\"\n",
    "units = \"imperial\"\n",
    "query_url = f\"{base_url}appid={weather_api_key}&units={units}&q=\"\n",
    "\n",
    "# For loop to receive API info on each city in Cities list above\n",
    "\n",
    "for  x,city in enumerate (cities):\n",
    "    \n",
    "     # Group cities as sets of 50s\n",
    "#    if (x % == 0 and  x >= 50):\n",
    "        #set_counter += 1\n",
    "        #city_counter = 1\n",
    "    response =requests.get(query_url + city).json()\n",
    "    #slowling down API calls to less than 60 per minute to not go over\n",
    "    time.sleep(1)\n",
    "    # Print Results\n",
    "    print(f\"Processing Record {city_counter} of Set {set_counter} : {city}\")\n",
    "    \n",
    "    #Increase Counter\n",
    "    city_counter+=1\n",
    "    \n",
    "    if (x % 49 == 0 and x != 0):\n",
    "        set_counter += 1\n",
    "        city_counter = 1\n",
    "    \n",
    "    try:\n",
    "        city_name.append(response[\"name\"])\n",
    "        temperature.append(response[\"main\"][\"temp\"])\n",
    "        max_temp.append(response[\"main\"][\"temp_max\"])\n",
    "        cloudiness.append(response[\"clouds\"][\"all\"])\n",
    "        humidity.append(response[\"main\"][\"humidity\"])\n",
    "        country.append(response[\"sys\"][\"country\"])\n",
    "        wind_speed.append(response[\"wind\"][\"speed\"])\n",
    "        latitude.append(response[\"coord\"][\"lat\"])\n",
    "        longitude.append(response[\"coord\"][\"lon\"])\n",
    "        datetime.append(response[\"dt\"])\n",
    "#         print(f\"Processing Record {x} : {city}\")\n",
    "#         x+=1\n",
    "    except:\n",
    "        print (\"City not found. Skipping...\")    \n",
    "        pass\n",
    "    \n",
    "print(\"Done\")"
   ]
  },
  {
   "cell_type": "markdown",
   "metadata": {},
   "source": [
    "### Convert Raw Data to DataFrame\n",
    "* Export the city data into a .csv.\n",
    "* Display the DataFrame"
   ]
  },
  {
   "cell_type": "code",
   "execution_count": 40,
   "metadata": {},
   "outputs": [
    {
     "data": {
      "text/plain": [
       "City               571\n",
       "Temperature        571\n",
       "Max Temperature    571\n",
       "Cloudiness         571\n",
       "Humidity           571\n",
       "Country            571\n",
       "Wind_Speed         571\n",
       "Lat                571\n",
       "Lng                571\n",
       "Date/Time          571\n",
       "dtype: int64"
      ]
     },
     "execution_count": 40,
     "metadata": {},
     "output_type": "execute_result"
    }
   ],
   "source": [
    "city_data = pd.DataFrame(list(zip(city_name,temperature,max_temp,cloudiness,humidity,country,wind_speed,latitude,longitude,datetime)),\n",
    "                        columns = [\"City\", \"Temperature\", \"Max Temperature\", \"Cloudiness\", \"Humidity\", \"Country\",\"Wind_Speed\",\"Lat\",\"Lng\", \"Date/Time\"])\n",
    "# city_data.head(20)\n",
    "city_data.count()"
   ]
  },
  {
   "cell_type": "code",
   "execution_count": 41,
   "metadata": {},
   "outputs": [
    {
     "data": {
      "text/html": [
       "<div>\n",
       "<style scoped>\n",
       "    .dataframe tbody tr th:only-of-type {\n",
       "        vertical-align: middle;\n",
       "    }\n",
       "\n",
       "    .dataframe tbody tr th {\n",
       "        vertical-align: top;\n",
       "    }\n",
       "\n",
       "    .dataframe thead th {\n",
       "        text-align: right;\n",
       "    }\n",
       "</style>\n",
       "<table border=\"1\" class=\"dataframe\">\n",
       "  <thead>\n",
       "    <tr style=\"text-align: right;\">\n",
       "      <th></th>\n",
       "      <th>City</th>\n",
       "      <th>Temperature</th>\n",
       "      <th>Max Temperature</th>\n",
       "      <th>Cloudiness</th>\n",
       "      <th>Humidity</th>\n",
       "      <th>Country</th>\n",
       "      <th>Wind_Speed</th>\n",
       "      <th>Lat</th>\n",
       "      <th>Lng</th>\n",
       "      <th>Date/Time</th>\n",
       "    </tr>\n",
       "  </thead>\n",
       "  <tbody>\n",
       "    <tr>\n",
       "      <th>0</th>\n",
       "      <td>Mount Gambier</td>\n",
       "      <td>55.40</td>\n",
       "      <td>55.40</td>\n",
       "      <td>90</td>\n",
       "      <td>88</td>\n",
       "      <td>AU</td>\n",
       "      <td>9.22</td>\n",
       "      <td>-37.8333</td>\n",
       "      <td>140.7667</td>\n",
       "      <td>1612643536</td>\n",
       "    </tr>\n",
       "    <tr>\n",
       "      <th>1</th>\n",
       "      <td>Olafsvik</td>\n",
       "      <td>34.81</td>\n",
       "      <td>34.81</td>\n",
       "      <td>72</td>\n",
       "      <td>81</td>\n",
       "      <td>IS</td>\n",
       "      <td>16.33</td>\n",
       "      <td>64.8945</td>\n",
       "      <td>-23.7142</td>\n",
       "      <td>1612643694</td>\n",
       "    </tr>\n",
       "    <tr>\n",
       "      <th>2</th>\n",
       "      <td>George Town</td>\n",
       "      <td>79.09</td>\n",
       "      <td>81.00</td>\n",
       "      <td>20</td>\n",
       "      <td>83</td>\n",
       "      <td>MY</td>\n",
       "      <td>4.61</td>\n",
       "      <td>5.4112</td>\n",
       "      <td>100.3354</td>\n",
       "      <td>1612643591</td>\n",
       "    </tr>\n",
       "    <tr>\n",
       "      <th>3</th>\n",
       "      <td>Tuktoyaktuk</td>\n",
       "      <td>-16.60</td>\n",
       "      <td>-16.60</td>\n",
       "      <td>75</td>\n",
       "      <td>76</td>\n",
       "      <td>CA</td>\n",
       "      <td>18.41</td>\n",
       "      <td>69.4541</td>\n",
       "      <td>-133.0374</td>\n",
       "      <td>1612643696</td>\n",
       "    </tr>\n",
       "    <tr>\n",
       "      <th>4</th>\n",
       "      <td>Bethel</td>\n",
       "      <td>38.97</td>\n",
       "      <td>41.00</td>\n",
       "      <td>1</td>\n",
       "      <td>30</td>\n",
       "      <td>US</td>\n",
       "      <td>13.80</td>\n",
       "      <td>41.3712</td>\n",
       "      <td>-73.4140</td>\n",
       "      <td>1612643698</td>\n",
       "    </tr>\n",
       "    <tr>\n",
       "      <th>5</th>\n",
       "      <td>Provideniya</td>\n",
       "      <td>-0.22</td>\n",
       "      <td>-0.22</td>\n",
       "      <td>67</td>\n",
       "      <td>89</td>\n",
       "      <td>RU</td>\n",
       "      <td>7.72</td>\n",
       "      <td>64.3833</td>\n",
       "      <td>-173.3000</td>\n",
       "      <td>1612643701</td>\n",
       "    </tr>\n",
       "    <tr>\n",
       "      <th>6</th>\n",
       "      <td>Hilo</td>\n",
       "      <td>73.65</td>\n",
       "      <td>77.00</td>\n",
       "      <td>1</td>\n",
       "      <td>57</td>\n",
       "      <td>US</td>\n",
       "      <td>4.61</td>\n",
       "      <td>19.7297</td>\n",
       "      <td>-155.0900</td>\n",
       "      <td>1612643433</td>\n",
       "    </tr>\n",
       "    <tr>\n",
       "      <th>7</th>\n",
       "      <td>Ilulissat</td>\n",
       "      <td>21.20</td>\n",
       "      <td>21.20</td>\n",
       "      <td>20</td>\n",
       "      <td>42</td>\n",
       "      <td>GL</td>\n",
       "      <td>23.02</td>\n",
       "      <td>69.2167</td>\n",
       "      <td>-51.1000</td>\n",
       "      <td>1612643704</td>\n",
       "    </tr>\n",
       "    <tr>\n",
       "      <th>8</th>\n",
       "      <td>Dikson</td>\n",
       "      <td>-29.04</td>\n",
       "      <td>-29.04</td>\n",
       "      <td>88</td>\n",
       "      <td>86</td>\n",
       "      <td>RU</td>\n",
       "      <td>10.74</td>\n",
       "      <td>73.5069</td>\n",
       "      <td>80.5464</td>\n",
       "      <td>1612643564</td>\n",
       "    </tr>\n",
       "    <tr>\n",
       "      <th>9</th>\n",
       "      <td>Pisco</td>\n",
       "      <td>73.36</td>\n",
       "      <td>75.20</td>\n",
       "      <td>75</td>\n",
       "      <td>73</td>\n",
       "      <td>PE</td>\n",
       "      <td>11.50</td>\n",
       "      <td>-13.7000</td>\n",
       "      <td>-76.2167</td>\n",
       "      <td>1612643706</td>\n",
       "    </tr>\n",
       "    <tr>\n",
       "      <th>10</th>\n",
       "      <td>Souillac</td>\n",
       "      <td>77.00</td>\n",
       "      <td>77.00</td>\n",
       "      <td>20</td>\n",
       "      <td>83</td>\n",
       "      <td>MU</td>\n",
       "      <td>5.75</td>\n",
       "      <td>-20.5167</td>\n",
       "      <td>57.5167</td>\n",
       "      <td>1612643707</td>\n",
       "    </tr>\n",
       "    <tr>\n",
       "      <th>11</th>\n",
       "      <td>Khatanga</td>\n",
       "      <td>-35.34</td>\n",
       "      <td>-35.34</td>\n",
       "      <td>0</td>\n",
       "      <td>78</td>\n",
       "      <td>RU</td>\n",
       "      <td>7.78</td>\n",
       "      <td>71.9667</td>\n",
       "      <td>102.5000</td>\n",
       "      <td>1612643708</td>\n",
       "    </tr>\n",
       "    <tr>\n",
       "      <th>12</th>\n",
       "      <td>Noumea</td>\n",
       "      <td>76.19</td>\n",
       "      <td>78.01</td>\n",
       "      <td>90</td>\n",
       "      <td>94</td>\n",
       "      <td>NC</td>\n",
       "      <td>3.44</td>\n",
       "      <td>-22.2763</td>\n",
       "      <td>166.4572</td>\n",
       "      <td>1612643598</td>\n",
       "    </tr>\n",
       "    <tr>\n",
       "      <th>13</th>\n",
       "      <td>Busselton</td>\n",
       "      <td>57.99</td>\n",
       "      <td>57.99</td>\n",
       "      <td>100</td>\n",
       "      <td>96</td>\n",
       "      <td>AU</td>\n",
       "      <td>1.01</td>\n",
       "      <td>-33.6500</td>\n",
       "      <td>115.3333</td>\n",
       "      <td>1612643710</td>\n",
       "    </tr>\n",
       "    <tr>\n",
       "      <th>14</th>\n",
       "      <td>Kavaratti</td>\n",
       "      <td>81.10</td>\n",
       "      <td>81.10</td>\n",
       "      <td>3</td>\n",
       "      <td>60</td>\n",
       "      <td>IN</td>\n",
       "      <td>7.23</td>\n",
       "      <td>10.5669</td>\n",
       "      <td>72.6420</td>\n",
       "      <td>1612643564</td>\n",
       "    </tr>\n",
       "    <tr>\n",
       "      <th>15</th>\n",
       "      <td>Grand Gaube</td>\n",
       "      <td>80.01</td>\n",
       "      <td>80.01</td>\n",
       "      <td>1</td>\n",
       "      <td>80</td>\n",
       "      <td>MU</td>\n",
       "      <td>3.00</td>\n",
       "      <td>-20.0064</td>\n",
       "      <td>57.6608</td>\n",
       "      <td>1612643713</td>\n",
       "    </tr>\n",
       "    <tr>\n",
       "      <th>16</th>\n",
       "      <td>Kulhudhuffushi</td>\n",
       "      <td>80.98</td>\n",
       "      <td>80.98</td>\n",
       "      <td>2</td>\n",
       "      <td>76</td>\n",
       "      <td>MV</td>\n",
       "      <td>8.63</td>\n",
       "      <td>6.6221</td>\n",
       "      <td>73.0700</td>\n",
       "      <td>1612643714</td>\n",
       "    </tr>\n",
       "    <tr>\n",
       "      <th>17</th>\n",
       "      <td>Sulangan</td>\n",
       "      <td>80.22</td>\n",
       "      <td>80.22</td>\n",
       "      <td>28</td>\n",
       "      <td>81</td>\n",
       "      <td>PH</td>\n",
       "      <td>13.42</td>\n",
       "      <td>11.1373</td>\n",
       "      <td>123.7228</td>\n",
       "      <td>1612643715</td>\n",
       "    </tr>\n",
       "    <tr>\n",
       "      <th>18</th>\n",
       "      <td>Rikitea</td>\n",
       "      <td>77.95</td>\n",
       "      <td>77.95</td>\n",
       "      <td>100</td>\n",
       "      <td>72</td>\n",
       "      <td>PF</td>\n",
       "      <td>11.56</td>\n",
       "      <td>-23.1203</td>\n",
       "      <td>-134.9692</td>\n",
       "      <td>1612643433</td>\n",
       "    </tr>\n",
       "    <tr>\n",
       "      <th>19</th>\n",
       "      <td>Iskateley</td>\n",
       "      <td>-27.78</td>\n",
       "      <td>-27.78</td>\n",
       "      <td>93</td>\n",
       "      <td>85</td>\n",
       "      <td>RU</td>\n",
       "      <td>12.06</td>\n",
       "      <td>67.6803</td>\n",
       "      <td>53.1512</td>\n",
       "      <td>1612643718</td>\n",
       "    </tr>\n",
       "  </tbody>\n",
       "</table>\n",
       "</div>"
      ],
      "text/plain": [
       "              City  Temperature  Max Temperature  Cloudiness  Humidity  \\\n",
       "0    Mount Gambier        55.40            55.40          90        88   \n",
       "1         Olafsvik        34.81            34.81          72        81   \n",
       "2      George Town        79.09            81.00          20        83   \n",
       "3      Tuktoyaktuk       -16.60           -16.60          75        76   \n",
       "4           Bethel        38.97            41.00           1        30   \n",
       "5      Provideniya        -0.22            -0.22          67        89   \n",
       "6             Hilo        73.65            77.00           1        57   \n",
       "7        Ilulissat        21.20            21.20          20        42   \n",
       "8           Dikson       -29.04           -29.04          88        86   \n",
       "9            Pisco        73.36            75.20          75        73   \n",
       "10        Souillac        77.00            77.00          20        83   \n",
       "11        Khatanga       -35.34           -35.34           0        78   \n",
       "12          Noumea        76.19            78.01          90        94   \n",
       "13       Busselton        57.99            57.99         100        96   \n",
       "14       Kavaratti        81.10            81.10           3        60   \n",
       "15     Grand Gaube        80.01            80.01           1        80   \n",
       "16  Kulhudhuffushi        80.98            80.98           2        76   \n",
       "17        Sulangan        80.22            80.22          28        81   \n",
       "18         Rikitea        77.95            77.95         100        72   \n",
       "19       Iskateley       -27.78           -27.78          93        85   \n",
       "\n",
       "   Country  Wind_Speed      Lat       Lng   Date/Time  \n",
       "0       AU        9.22 -37.8333  140.7667  1612643536  \n",
       "1       IS       16.33  64.8945  -23.7142  1612643694  \n",
       "2       MY        4.61   5.4112  100.3354  1612643591  \n",
       "3       CA       18.41  69.4541 -133.0374  1612643696  \n",
       "4       US       13.80  41.3712  -73.4140  1612643698  \n",
       "5       RU        7.72  64.3833 -173.3000  1612643701  \n",
       "6       US        4.61  19.7297 -155.0900  1612643433  \n",
       "7       GL       23.02  69.2167  -51.1000  1612643704  \n",
       "8       RU       10.74  73.5069   80.5464  1612643564  \n",
       "9       PE       11.50 -13.7000  -76.2167  1612643706  \n",
       "10      MU        5.75 -20.5167   57.5167  1612643707  \n",
       "11      RU        7.78  71.9667  102.5000  1612643708  \n",
       "12      NC        3.44 -22.2763  166.4572  1612643598  \n",
       "13      AU        1.01 -33.6500  115.3333  1612643710  \n",
       "14      IN        7.23  10.5669   72.6420  1612643564  \n",
       "15      MU        3.00 -20.0064   57.6608  1612643713  \n",
       "16      MV        8.63   6.6221   73.0700  1612643714  \n",
       "17      PH       13.42  11.1373  123.7228  1612643715  \n",
       "18      PF       11.56 -23.1203 -134.9692  1612643433  \n",
       "19      RU       12.06  67.6803   53.1512  1612643718  "
      ]
     },
     "execution_count": 41,
     "metadata": {},
     "output_type": "execute_result"
    }
   ],
   "source": [
    "city_data.head(20)"
   ]
  },
  {
   "cell_type": "code",
   "execution_count": 42,
   "metadata": {},
   "outputs": [],
   "source": [
    "city_data.to_csv(path_or_buf= \"../output_data/cities.csv\", index =False)"
   ]
  },
  {
   "cell_type": "markdown",
   "metadata": {},
   "source": [
    "## Inspect the data and remove the cities where the humidity > 100%.\n",
    "----\n",
    "Skip this step if there are no cities that have humidity > 100%. "
   ]
  },
  {
   "cell_type": "code",
   "execution_count": 43,
   "metadata": {},
   "outputs": [
    {
     "data": {
      "text/html": [
       "<div>\n",
       "<style scoped>\n",
       "    .dataframe tbody tr th:only-of-type {\n",
       "        vertical-align: middle;\n",
       "    }\n",
       "\n",
       "    .dataframe tbody tr th {\n",
       "        vertical-align: top;\n",
       "    }\n",
       "\n",
       "    .dataframe thead th {\n",
       "        text-align: right;\n",
       "    }\n",
       "</style>\n",
       "<table border=\"1\" class=\"dataframe\">\n",
       "  <thead>\n",
       "    <tr style=\"text-align: right;\">\n",
       "      <th></th>\n",
       "      <th>City</th>\n",
       "      <th>Temperature</th>\n",
       "      <th>Max Temperature</th>\n",
       "      <th>Cloudiness</th>\n",
       "      <th>Humidity</th>\n",
       "      <th>Country</th>\n",
       "      <th>Wind_Speed</th>\n",
       "      <th>Lat</th>\n",
       "      <th>Lng</th>\n",
       "      <th>Date/Time</th>\n",
       "    </tr>\n",
       "  </thead>\n",
       "  <tbody>\n",
       "  </tbody>\n",
       "</table>\n",
       "</div>"
      ],
      "text/plain": [
       "Empty DataFrame\n",
       "Columns: [City, Temperature, Max Temperature, Cloudiness, Humidity, Country, Wind_Speed, Lat, Lng, Date/Time]\n",
       "Index: []"
      ]
     },
     "execution_count": 43,
     "metadata": {},
     "output_type": "execute_result"
    }
   ],
   "source": [
    "new_temp = city_data[city_data.Humidity > 100]\n",
    "new_temp\n",
    "# city_data"
   ]
  },
  {
   "cell_type": "code",
   "execution_count": 44,
   "metadata": {},
   "outputs": [],
   "source": [
    "#  Get the indices of cities that have humidity over 100%.\n"
   ]
  },
  {
   "cell_type": "code",
   "execution_count": 45,
   "metadata": {},
   "outputs": [],
   "source": [
    "# Make a new DataFrame equal to the city data to drop all humidity outliers by index.\n",
    "# Passing \"inplace=False\" will make a copy of the city_data DataFrame, which we call \"clean_city_data\".\n"
   ]
  },
  {
   "cell_type": "code",
   "execution_count": null,
   "metadata": {},
   "outputs": [],
   "source": [
    "\n"
   ]
  },
  {
   "cell_type": "markdown",
   "metadata": {},
   "source": [
    "## Plotting the Data\n",
    "* Use proper labeling of the plots using plot titles (including date of analysis) and axes labels.\n",
    "* Save the plotted figures as .pngs."
   ]
  },
  {
   "cell_type": "markdown",
   "metadata": {},
   "source": [
    "## Latitude vs. Temperature Plot"
   ]
  },
  {
   "cell_type": "code",
   "execution_count": 46,
   "metadata": {
    "scrolled": true
   },
   "outputs": [
    {
     "data": {
      "image/png": "[encoded data removed]",
      "text/plain": [
       "<Figure size 432x288 with 1 Axes>"
      ]
     },
     "metadata": {
      "needs_background": "light"
     },
     "output_type": "display_data"
    }
   ],
   "source": [
    "# create scatter plot \n",
    "plt.scatter(city_data[\"Lat\"],city_data[\"Temperature\"])\n",
    "# X-Axis label\n",
    "plt.xlabel(\"Latitude\")\n",
    "#Y Axis label\n",
    "plt.ylabel(\"Tempature (F)\")\n",
    "#Title \n",
    "plt.title( \"City Latitidue Vs Temperature 02/06/2021\")\n",
    "#set grid line\n",
    "plt.grid(linestyle = '-', linewidth =1, alpha =0.5)\n",
    "\n",
    "# plt.show()\n",
    "\n",
    "# save image\n",
    "plt.savefig(\"../Images/City_Lat_vs_Temp.PNG\")"
   ]
  },
  {
   "cell_type": "markdown",
   "metadata": {},
   "source": [
    "## Latitude vs. Humidity Plot"
   ]
  },
  {
   "cell_type": "code",
   "execution_count": 47,
   "metadata": {},
   "outputs": [
    {
     "data": {
      "image/png": "[encoded data removed]",
      "text/plain": [
       "<Figure size 432x288 with 1 Axes>"
      ]
     },
     "metadata": {
      "needs_background": "light"
     },
     "output_type": "display_data"
    }
   ],
   "source": [
    "# create scatter plot \n",
    "plt.scatter(city_data[\"Lat\"],city_data[\"Humidity\"])\n",
    "# X-Axis label\n",
    "plt.xlabel(\"Latitude\")\n",
    "#Y Axis label\n",
    "plt.ylabel(\"Humidity)\")\n",
    "#Title \n",
    "plt.title( \"City Latitidue Vs Humidity 02/06/2021\")\n",
    "#set grid line\n",
    "plt.grid(linestyle = '-', linewidth =1, alpha =0.5)\n",
    "\n",
    "# plt.show()\n",
    "\n",
    "# save image\n",
    "plt.savefig(\"../Images/City_Lat_vs_Humidity.PNG\")\n"
   ]
  },
  {
   "cell_type": "markdown",
   "metadata": {},
   "source": [
    "## Latitude vs. Cloudiness Plot"
   ]
  },
  {
   "cell_type": "code",
   "execution_count": 48,
   "metadata": {},
   "outputs": [
    {
     "data": {
      "image/png": "[encoded data removed]",
      "text/plain": [
       "<Figure size 432x288 with 1 Axes>"
      ]
     },
     "metadata": {
      "needs_background": "light"
     },
     "output_type": "display_data"
    }
   ],
   "source": [
    "# create scatter plot \n",
    "plt.scatter(city_data[\"Lat\"],city_data[\"Cloudiness\"])\n",
    "# X-Axis label\n",
    "plt.xlabel(\"Latitude\")\n",
    "#Y Axis label\n",
    "plt.ylabel(\"Tempature (F)\")\n",
    "#Title \n",
    "plt.title( \"City Latitidue Vs Cloudiness 02/06/2021\")\n",
    "#set grid line\n",
    "plt.grid(linestyle = '-', linewidth =1, alpha =0.5)\n",
    "\n",
    "# plt.show()\n",
    "\n",
    "# save image\n",
    "plt.savefig(\"../Images/City_Lat_vs_Cloudiness.PNG\")"
   ]
  },
  {
   "cell_type": "markdown",
   "metadata": {},
   "source": [
    "## Latitude vs. Wind Speed Plot"
   ]
  },
  {
   "cell_type": "code",
   "execution_count": 95,
   "metadata": {},
   "outputs": [
    {
     "data": {
      "image/png": "[encoded data removed]",
      "text/plain": [
       "<Figure size 432x288 with 1 Axes>"
      ]
     },
     "metadata": {
      "needs_background": "light"
     },
     "output_type": "display_data"
    }
   ],
   "source": [
    "# create scatter plot \n",
    "plt.scatter(city_data[\"Lat\"],city_data[\"Wind_Speed\"])\n",
    "# X-Axis label\n",
    "plt.xlabel(\"Latitude\")\n",
    "#Y Axis label\n",
    "plt.ylabel(\"Wind_Speed (mph)\")\n",
    "#Title \n",
    "plt.title( \"City Latitidue Vs Wind Speed 02/06/2021\")\n",
    "#set grid line\n",
    "plt.grid(linestyle = '-', linewidth =1, alpha =0.5)\n",
    "\n",
    "# plt.show()\n",
    "\n",
    "# save image\n",
    "plt.savefig(\"../Images/City_Lat_vs_Wind_Speed.PNG\")"
   ]
  },
  {
   "cell_type": "markdown",
   "metadata": {},
   "source": [
    "## Linear Regression"
   ]
  },
  {
   "cell_type": "code",
   "execution_count": 62,
   "metadata": {},
   "outputs": [],
   "source": [
    "# Creating new DataDrame for Northern and Southern Hemisphere\n",
    "north_hemisphere = city_data.loc[city_data[\"Lat\"] >= 0]\n",
    "south_hemisphere = city_data.loc[city_data[\"Lat\"] < 0 ]\n",
    "\n"
   ]
  },
  {
   "cell_type": "code",
   "execution_count": 70,
   "metadata": {},
   "outputs": [],
   "source": [
    "\n",
    "\n",
    "def linear_regression(x,y):\n",
    "    print(f\"The r-squared is : {round(st.pearsonr(x, y)[0],2)}\")\n",
    "    (slope, intercept, rvalue, pvalue, stderr) = linregress(x, y)\n",
    "    regression_values = x * slope + intercept\n",
    "    line_eq = \"y = \" + str(round(slope,2)) + \"x + \" + str(round(intercept,2))\n",
    "    plt.scatter(x, y)\n",
    "    plt.plot(x,regression_values,\"r-\")\n",
    "    return line_eq\n",
    "\n",
    "# Define a fuction for annotating\n",
    "def annotate(line_eq, a, b):\n",
    "    plt.annotate(line_eq,(a,b),fontsize=15,color=\"red\")"
   ]
  },
  {
   "cell_type": "markdown",
   "metadata": {},
   "source": [
    "####  Northern Hemisphere - Max Temp vs. Latitude Linear Regression"
   ]
  },
  {
   "cell_type": "code",
   "execution_count": 73,
   "metadata": {},
   "outputs": [
    {
     "name": "stdout",
     "output_type": "stream",
     "text": [
      "The r-squared is : -0.85\n"
     ]
    },
    {
     "data": {
      "image/png": "[encoded data removed]",
      "text/plain": [
       "<Figure size 432x288 with 1 Axes>"
      ]
     },
     "metadata": {
      "needs_background": "light"
     },
     "output_type": "display_data"
    }
   ],
   "source": [
    "# Call function to create line equation\n",
    "line_equation = linear_regression(north_hemisphere[\"Lat\"],north_hemisphere[\"Max Temperature\"])\n",
    "# line equation plot on figure\n",
    "annotate(line_equation,0,0)\n",
    "# Label X-Axis\n",
    "plt.xlabel(\"Latitude\")\n",
    "# Label Y-Axis\n",
    "plt.ylabel(\"Max Temperature (F)\")\n",
    "# Label Title\n",
    "plt.title(\"Northern Hemisphere- Latitude vs Max Temperature Linear Regression\")\n",
    "\n",
    "# Save Figure\n",
    "plt.savefig(\"../Images/North_Line_Regression_Max_temp_vs_Lat.png\")"
   ]
  },
  {
   "cell_type": "markdown",
   "metadata": {},
   "source": [
    "####  Southern Hemisphere - Max Temp vs. Latitude Linear Regression"
   ]
  },
  {
   "cell_type": "code",
   "execution_count": 78,
   "metadata": {},
   "outputs": [
    {
     "name": "stdout",
     "output_type": "stream",
     "text": [
      "The r-squared is : 0.52\n"
     ]
    },
    {
     "data": {
      "image/png": "[encoded data removed]",
      "text/plain": [
       "<Figure size 432x288 with 1 Axes>"
      ]
     },
     "metadata": {
      "needs_background": "light"
     },
     "output_type": "display_data"
    }
   ],
   "source": [
    "# Call function to create line equation\n",
    "line_equation = linear_regression(south_hemisphere[\"Lat\"],south_hemisphere[\"Max Temperature\"])\n",
    "# line equation plot on figure\n",
    "annotate(line_equation,-40,65)\n",
    "# Label X-Axis\n",
    "plt.xlabel(\"Latitude\")\n",
    "# Label Y-Axis\n",
    "plt.ylabel(\"Max Temperature (F)\")\n",
    "# Label Title\n",
    "plt.title(\"Southern Hemisphere- Latitude vs Max Temperature Linear Regression\")\n",
    "\n",
    "# Save Figure\n",
    "plt.savefig(\"../Images/South_Line_Regression_Max_temp_vs_Lat.png\")"
   ]
  },
  {
   "cell_type": "markdown",
   "metadata": {},
   "source": [
    "####  Northern Hemisphere - Humidity (%) vs. Latitude Linear Regression"
   ]
  },
  {
   "cell_type": "code",
   "execution_count": 79,
   "metadata": {},
   "outputs": [
    {
     "name": "stdout",
     "output_type": "stream",
     "text": [
      "The r-squared is : 0.29\n"
     ]
    },
    {
     "data": {
      "image/png": "[encoded data removed]",
      "text/plain": [
       "<Figure size 432x288 with 1 Axes>"
      ]
     },
     "metadata": {
      "needs_background": "light"
     },
     "output_type": "display_data"
    }
   ],
   "source": [
    "# Call function to create line equation\n",
    "line_equation = linear_regression(north_hemisphere[\"Lat\"],north_hemisphere[\"Humidity\"])\n",
    "# line equation plot on figure\n",
    "annotate(line_equation,10,60)\n",
    "# Label X-Axis\n",
    "plt.xlabel(\"Latitude\")\n",
    "# Label Y-Axis\n",
    "plt.ylabel(\"Humditiy (%)\")\n",
    "# Label Title\n",
    "plt.title(\"Northern Hemisphere- Latitude vs Humidity % Linear Regression\")\n",
    "\n",
    "# Save Figure\n",
    "plt.savefig(\"../Images/North_Line_Regression_Humidity_vs_Lat.png\")"
   ]
  },
  {
   "cell_type": "markdown",
   "metadata": {},
   "source": [
    "####  Southern Hemisphere - Humidity (%) vs. Latitude Linear Regression"
   ]
  },
  {
   "cell_type": "code",
   "execution_count": 80,
   "metadata": {},
   "outputs": [
    {
     "name": "stdout",
     "output_type": "stream",
     "text": [
      "The r-squared is : 0.22\n"
     ]
    },
    {
     "data": {
      "image/png": "[encoded data removed]",
      "text/plain": [
       "<Figure size 432x288 with 1 Axes>"
      ]
     },
     "metadata": {
      "needs_background": "light"
     },
     "output_type": "display_data"
    }
   ],
   "source": [
    "# Call function to create line equation\n",
    "line_equation = linear_regression(south_hemisphere[\"Lat\"],south_hemisphere[\"Humidity\"])\n",
    "# line equation plot on figure\n",
    "annotate(line_equation,-40,70)\n",
    "# Label X-Axis\n",
    "plt.xlabel(\"Latitude\")\n",
    "# Label Y-Axis\n",
    "plt.ylabel(\"Humditiy (%)\")\n",
    "# Label Title\n",
    "plt.title(\"Southern Hemisphere- Latitude vs Humidity % Linear Regression\")\n",
    "\n",
    "# Save Figure\n",
    "plt.savefig(\"../Images/South_Line_Regression_Humidity_vs_Lat.png\")"
   ]
  },
  {
   "cell_type": "markdown",
   "metadata": {},
   "source": [
    "####  Northern Hemisphere - Cloudiness (%) vs. Latitude Linear Regression"
   ]
  },
  {
   "cell_type": "code",
   "execution_count": 84,
   "metadata": {},
   "outputs": [
    {
     "name": "stdout",
     "output_type": "stream",
     "text": [
      "The r-squared is : 0.33\n"
     ]
    },
    {
     "data": {
      "image/png": "[encoded data removed]",
      "text/plain": [
       "<Figure size 432x288 with 1 Axes>"
      ]
     },
     "metadata": {
      "needs_background": "light"
     },
     "output_type": "display_data"
    }
   ],
   "source": [
    "# Call function to create line equation\n",
    "line_equation = linear_regression(north_hemisphere[\"Lat\"],north_hemisphere[\"Cloudiness\"])\n",
    "# line equation plot on figure\n",
    "annotate(line_equation,-40,70)\n",
    "# Label X-Axis\n",
    "plt.xlabel(\"Latitude\")\n",
    "# Label Y-Axis\n",
    "plt.ylabel(\"Cloudiness (%)\")\n",
    "# Label Title\n",
    "plt.title(\"Northern Hemisphere- Latitude vs Cloudiness % Linear Regression\")\n",
    "\n",
    "# Save Figure\n",
    "plt.savefig(\"../Images/North_Line_Regression_Cloudiness_vs_Lat.png\")"
   ]
  },
  {
   "cell_type": "markdown",
   "metadata": {},
   "source": [
    "####  Southern Hemisphere - Cloudiness (%) vs. Latitude Linear Regression"
   ]
  },
  {
   "cell_type": "code",
   "execution_count": 85,
   "metadata": {},
   "outputs": [
    {
     "name": "stdout",
     "output_type": "stream",
     "text": [
      "The r-squared is : 0.33\n"
     ]
    },
    {
     "data": {
      "image/png": "[encoded data removed]",
      "text/plain": [
       "<Figure size 432x288 with 1 Axes>"
      ]
     },
     "metadata": {
      "needs_background": "light"
     },
     "output_type": "display_data"
    }
   ],
   "source": [
    "# Call function to create line equation\n",
    "line_equation = linear_regression(south_hemisphere[\"Lat\"],south_hemisphere[\"Cloudiness\"])\n",
    "# line equation plot on figure\n",
    "annotate(line_equation,-40,70)\n",
    "# Label X-Axis\n",
    "plt.xlabel(\"Latitude\")\n",
    "# Label Y-Axis\n",
    "plt.ylabel(\"Cloudiness (%)\")\n",
    "# Label Title\n",
    "plt.title(\"Southern Hemisphere- Latitude vs Cloudiness % Linear Regression\")\n",
    "\n",
    "# Save Figure\n",
    "plt.savefig(\"../Images/South_Line_Regression_Cloudiness_vs_Lat.png\")"
   ]
  },
  {
   "cell_type": "markdown",
   "metadata": {},
   "source": [
    "####  Northern Hemisphere - Wind Speed (mph) vs. Latitude Linear Regression"
   ]
  },
  {
   "cell_type": "code",
   "execution_count": 96,
   "metadata": {},
   "outputs": [
    {
     "name": "stdout",
     "output_type": "stream",
     "text": [
      "The r-squared is : 0.1\n"
     ]
    },
    {
     "data": {
      "image/png": "[encoded data removed]",
      "text/plain": [
       "<Figure size 432x288 with 1 Axes>"
      ]
     },
     "metadata": {
      "needs_background": "light"
     },
     "output_type": "display_data"
    }
   ],
   "source": [
    "# Call function to create line equation\n",
    "line_equation = linear_regression(north_hemisphere[\"Lat\"],north_hemisphere[\"Wind_Speed\"])\n",
    "# line equation plot on figure\n",
    "annotate(line_equation,10,10)\n",
    "# Label X-Axis\n",
    "plt.xlabel(\"Latitude\")\n",
    "# Label Y-Axis\n",
    "plt.ylabel(\"Wind Speed (mph)\")\n",
    "# Label Title\n",
    "plt.title(\"Northern Hemisphere- Latitude vs Wind Speed Linear Regression\")\n",
    "\n",
    "# Save Figure\n",
    "plt.savefig(\"../Images/North_Line_Regression_Wind_Speed_vs_Lat.png\")"
   ]
  },
  {
   "cell_type": "markdown",
   "metadata": {},
   "source": [
    "####  Southern Hemisphere - Wind Speed (mph) vs. Latitude Linear Regression"
   ]
  },
  {
   "cell_type": "code",
   "execution_count": 97,
   "metadata": {},
   "outputs": [
    {
     "name": "stdout",
     "output_type": "stream",
     "text": [
      "The r-squared is : -0.14\n"
     ]
    },
    {
     "data": {
      "image/png": "[encoded data removed]",
      "text/plain": [
       "<Figure size 432x288 with 1 Axes>"
      ]
     },
     "metadata": {
      "needs_background": "light"
     },
     "output_type": "display_data"
    }
   ],
   "source": [
    "# Call function to create line equation\n",
    "line_equation = linear_regression(south_hemisphere[\"Lat\"],south_hemisphere[\"Wind_Speed\"])\n",
    "# line equation plot on figure\n",
    "annotate(line_equation,-40,10)\n",
    "# Label X-Axis\n",
    "plt.xlabel(\"Latitude\")\n",
    "# Label Y-Axis\n",
    "plt.ylabel(\"Wind Speed (mph)\")\n",
    "# Label Title\n",
    "plt.title(\"Southern Hemisphere- Latitude vs Wind Speed  Linear Regression\")\n",
    "\n",
    "# Save Figure\n",
    "plt.savefig(\"../Images/South_Line_Regression_Wind_Speed_vs_Lat.png\")"
   ]
  },
  {
   "cell_type": "code",
   "execution_count": null,
   "metadata": {},
   "outputs": [],
   "source": []
  }
 ],
 "metadata": {
  "anaconda-cloud": {},
  "kernel_info": {
   "name": "python3"
  },
  "kernelspec": {
   "display_name": "Python 3",
   "language": "python",
   "name": "python3"
  },
  "language_info": {
   "codemirror_mode": {
    "name": "ipython",
    "version": 3
   },
   "file_extension": ".py",
   "mimetype": "text/x-python",
   "name": "python",
   "nbconvert_exporter": "python",
   "pygments_lexer": "ipython3",
   "version": "3.8.5"
  },
  "latex_envs": {
   "LaTeX_envs_menu_present": true,
   "autoclose": false,
   "autocomplete": true,
   "bibliofile": "biblio.bib",
   "cite_by": "apalike",
   "current_citInitial": 1,
   "eqLabelWithNumbers": true,
   "eqNumInitial": 1,
   "hotkeys": {
    "equation": "Ctrl-E",
    "itemize": "Ctrl-I"
   },
   "labels_anchors": false,
   "latex_user_defs": false,
   "report_style_numbering": false,
   "user_envs_cfg": false
  },
  "nteract": {
   "version": "0.12.3"
  }
 },
 "nbformat": 4,
 "nbformat_minor": 2
}
